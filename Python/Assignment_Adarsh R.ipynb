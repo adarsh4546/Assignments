{
 "cells": [
  {
   "cell_type": "code",
   "execution_count": 1,
   "id": "e7e5acd8",
   "metadata": {},
   "outputs": [
    {
     "name": "stdout",
     "output_type": "stream",
     "text": [
      "Enter the path to search for duplicates: D:\\files\n",
      "1 duplicate files found:\n",
      "D:\\files\\hello1.txt (duplicate of D:\\files\\hello.txt)\n",
      "Do you want to delete the duplicates? (y/n): y\n",
      "Deleting D:\\files\\hello1.txt (duplicate of D:\\files\\hello.txt)\n",
      "Duplicates deleted successfully!\n"
     ]
    }
   ],
   "source": [
    "#1\n",
    "import os\n",
    "import hashlib\n",
    "\n",
    "def find_duplicate_files(path):\n",
    "    # dictionary to store file paths and their corresponding hashes\n",
    "    hashes = {}\n",
    "    duplicates = []\n",
    "# walk through all the directories and subdirectories\n",
    "    for root, dirs, files in os.walk(path):\n",
    "        for file in files:\n",
    "            # get the full path of the file\n",
    "            file_path = os.path.join(root, file)\n",
    "\n",
    "            # calculate the hash of the file contents\n",
    "            with open(file_path, 'rb') as f:\n",
    "                file_hash = hashlib.md5(f.read()).hexdigest()\n",
    "\n",
    "            # if the hash already exists in the dictionary, add it to the list of duplicates\n",
    "            if file_hash in hashes:\n",
    "                duplicates.append((file_path, hashes[file_hash]))\n",
    "            else:\n",
    "                hashes[file_hash] = file_path\n",
    "\n",
    "    return duplicates\n",
    "\n",
    "def delete_duplicates(duplicates):\n",
    "    for duplicate in duplicates:\n",
    "        # print the duplicates before deleting\n",
    "        print(f'Deleting {duplicate[0]} (duplicate of {duplicate[1]})')\n",
    "\n",
    "        # delete the duplicate file\n",
    "        os.remove(duplicate[0])\n",
    "\n",
    "if __name__ == '__main__':\n",
    "    path = input('Enter the path to search for duplicates: ')\n",
    "    duplicates = find_duplicate_files(path)\n",
    "\n",
    "    if duplicates:\n",
    "        print(f'{len(duplicates)} duplicate files found:')\n",
    "        for duplicate in duplicates:\n",
    "            print(f'{duplicate[0]} (duplicate of {duplicate[1]})')\n",
    "\n",
    "        delete = input('Do you want to delete the duplicates? (y/n): ')\n",
    "        if delete.lower() == 'y':\n",
    "            delete_duplicates(duplicates)\n",
    "            print('Duplicates deleted successfully!')\n",
    "        else:\n",
    "            print('Duplicates not deleted.')\n",
    "    else:\n",
    "        print('No duplicate files found.')\n",
    "\n",
    "\n",
    "\n"
   ]
  },
  {
   "cell_type": "code",
   "execution_count": 3,
   "id": "43ccd3c6",
   "metadata": {},
   "outputs": [
    {
     "name": "stdout",
     "output_type": "stream",
     "text": [
      "[[343, 27, 512, 8, 216], [125, 1, 9, 4, 1000], [2197, 4913, 1728, 1331, 3375], [2744, 16, 6859, 8000, 5832], [10648, 9261, 12167, 25, 13824]]\n",
      "Total sum: 253325\n"
     ]
    }
   ],
   "source": [
    "#3 and 4\n",
    "import math\n",
    "\n",
    "# create a 2D array of size 5x5 with random integers\n",
    "arr = [[7, 3, 8, 2, 6],\n",
    "       [5, 1, 9, 4, 10],\n",
    "       [13, 17, 12, 11, 15],\n",
    "       [14, 16, 19, 20, 18],\n",
    "       [22, 21, 23, 25, 24]]\n",
    "\n",
    "# loop through the array and update prime number positions with their cube\n",
    "for i in range(len(arr)):\n",
    "    for j in range(len(arr[i])):\n",
    "        if math.isqrt(arr[i][j]) ** 2 == arr[i][j]:  # check if number is not prime\n",
    "            continue\n",
    "        else:  # number is prime\n",
    "            arr[i][j] = arr[i][j] ** 3\n",
    "\n",
    "# calculate the sum of every cubed value and its previous integer\n",
    "total_sum = 0\n",
    "for i in range(len(arr)):\n",
    "    for j in range(len(arr[i])):\n",
    "        if j > 0:\n",
    "            total_sum += arr[i][j] + arr[i][j-1]\n",
    "        if i > 0:\n",
    "            total_sum += arr[i][j] + arr[i-1][j]\n",
    "\n",
    "print(arr)\n",
    "print(\"Total sum:\", total_sum)\n",
    "\n",
    "\n"
   ]
  },
  {
   "cell_type": "code",
   "execution_count": 2,
   "id": "f339f798",
   "metadata": {},
   "outputs": [
    {
     "name": "stdout",
     "output_type": "stream",
     "text": [
      "random password=  8t5lA2\n",
      "None\n"
     ]
    }
   ],
   "source": [
    "#2\n",
    "import random\n",
    "import string\n",
    "def random_password(length):\n",
    "    upperletters=string.ascii_uppercase\n",
    "    lowerletters=string.ascii_lowercase\n",
    "    digits=string.digits\n",
    "    result1=''.join(random.choice(upperletters)for i in range(1))\n",
    "    result2=''.join(random.choice(lowerletters)for i in range(2))\n",
    "    result3=''.join(random.choice(digits)for i in range(3))\n",
    "    resultpassword=result1+result2+result3\n",
    "    resultpassword=''.join(random.sample(resultpassword,len(resultpassword)))\n",
    "    print(\"random password= \",resultpassword)\n",
    "    \n",
    "print(random_password(6))"
   ]
  },
  {
   "cell_type": "code",
   "execution_count": 18,
   "id": "cdbb1ec4",
   "metadata": {},
   "outputs": [
    {
     "data": {
      "text/plain": [
       "array([[1, 0, 1, 0, 1, 0, 1],\n",
       "       [0, 1, 0, 1, 0, 1, 0],\n",
       "       [1, 0, 1, 0, 1, 0, 1],\n",
       "       [0, 1, 0, 1, 0, 1, 0],\n",
       "       [1, 0, 1, 0, 1, 0, 1],\n",
       "       [0, 1, 0, 1, 0, 1, 0],\n",
       "       [1, 0, 1, 0, 1, 0, 1]], dtype=int8)"
      ]
     },
     "execution_count": 18,
     "metadata": {},
     "output_type": "execute_result"
    }
   ],
   "source": [
    "#7\n",
    "arr2=np.ones((7,7),dtype='int8')\n",
    "arr2[1::2,::2]=0\n",
    "arr2[::2,1::2]=0\n",
    "arr2"
   ]
  },
  {
   "cell_type": "code",
   "execution_count": 41,
   "id": "985864e9",
   "metadata": {},
   "outputs": [
    {
     "name": "stdout",
     "output_type": "stream",
     "text": [
      "[[  7  14  21  28  35  42  49]\n",
      " [ 56  63  70  77  84  91  98]\n",
      " [105 112 119 126 133 140 147]\n",
      " [154 161 168 175 182 189 196]\n",
      " [203 210 217 224 231 238 245]\n",
      " [252 259 266 273 280 287 294]\n",
      " [301 308 315 322 329 336 343]]\n",
      "343\n"
     ]
    }
   ],
   "source": [
    "#6\n",
    "arr3=np.arange(7,(7*49)+1,7).reshape(7,7)\n",
    "print(arr3)\n",
    "\n",
    "print(arr3[6][6])"
   ]
  },
  {
   "cell_type": "markdown",
   "id": "920ad18b",
   "metadata": {},
   "source": [
    "###### "
   ]
  },
  {
   "cell_type": "code",
   "execution_count": 48,
   "id": "15f0d960",
   "metadata": {},
   "outputs": [
    {
     "name": "stdout",
     "output_type": "stream",
     "text": [
      "[3 5]\n"
     ]
    }
   ],
   "source": [
    "#5\n",
    "arr1=np.array([1,3,4,5,7])\n",
    "arr2=np.array([2,3,5,6])\n",
    "\n",
    "arr3 = np.intersect1d(arr1,arr2)\n",
    "print(arr3)"
   ]
  },
  {
   "cell_type": "code",
   "execution_count": 5,
   "id": "10996500",
   "metadata": {},
   "outputs": [
    {
     "name": "stdout",
     "output_type": "stream",
     "text": [
      "[[None, 'B', 'C', 'D'], [None, 'F', 'G', 'H'], [None, None, 'K', 'L'], ['M', 'N', None, 'P'], ['Q', 'R', 'S', 'T'], [None, '0', 'W', None]]\n",
      "Number of missing values: 7\n"
     ]
    }
   ],
   "source": [
    "#8\n",
    "# create the matrix as a list of lists\n",
    "l1 = [['A', 'B', 'C', 'D'],\n",
    "       ['E', 'F', 'G', 'H'],\n",
    "       ['I', 'a', 'K', 'L'],\n",
    "       ['M', 'N', 'o', 'P'],\n",
    "       ['Q', 'R', 'S', 'T'],\n",
    "       ['U', '0', 'W', 'O']]\n",
    "\n",
    "# define vowels to replace with None\n",
    "vowels = ['A', 'E', 'I', 'O', 'U', 'a', 'o']\n",
    "\n",
    "# replace vowels with None\n",
    "for i in range(len(l1)):\n",
    "    for j in range(len(l1[i])):\n",
    "        if l1[i][j] in vowels:\n",
    "            l1[i][j] = None\n",
    "\n",
    "# count missing values\n",
    "count_none = sum(1 for row in l1 for val in row if val is None)\n",
    "\n",
    "print(l1)\n",
    "print(\"Number of missing values:\", count_none)\n",
    "\n",
    "\n",
    "\n",
    "\n",
    "\n"
   ]
  },
  {
   "cell_type": "code",
   "execution_count": null,
   "id": "043fa93e",
   "metadata": {},
   "outputs": [],
   "source": []
  }
 ],
 "metadata": {
  "kernelspec": {
   "display_name": "Python 3 (ipykernel)",
   "language": "python",
   "name": "python3"
  },
  "language_info": {
   "codemirror_mode": {
    "name": "ipython",
    "version": 3
   },
   "file_extension": ".py",
   "mimetype": "text/x-python",
   "name": "python",
   "nbconvert_exporter": "python",
   "pygments_lexer": "ipython3",
   "version": "3.9.13"
  }
 },
 "nbformat": 4,
 "nbformat_minor": 5
}
